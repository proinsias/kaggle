{
 "cells": [
  {
   "cell_type": "code",
   "execution_count": 46,
   "metadata": {
    "ExecuteTime": {
     "end_time": "2021-03-27T02:48:54.427341Z",
     "start_time": "2021-03-27T02:48:54.409755Z"
    },
    "_cell_guid": "b1076dfc-b9ad-4769-8c92-a6c4dae69d19",
    "_uuid": "8f2839f25d086af736a60e9eeb907d3b93b6e0e5"
   },
   "outputs": [],
   "source": [
    "import os\n",
    "import uuid\n",
    "from pathlib import Path\n",
    "\n",
    "import pandas_profiling\n",
    "import numpy as np\n",
    "import pandas as pd\n",
    "import matplotlib.pyplot as plt\n",
    "import seaborn as sns\n",
    "import xgboost as xgb\n",
    "from sklearn.ensemble import RandomForestClassifier\n",
    "from sklearn.model_selection import train_test_split, RandomizedSearchCV\n",
    "from sklearn.metrics import roc_auc_score\n",
    "from sklearn.preprocessing import LabelEncoder, OneHotEncoder"
   ]
  },
  {
   "cell_type": "code",
   "execution_count": 7,
   "metadata": {
    "ExecuteTime": {
     "end_time": "2021-03-27T02:26:21.823044Z",
     "start_time": "2021-03-27T02:26:21.815097Z"
    }
   },
   "outputs": [],
   "source": [
    "input_path = Path('../data')"
   ]
  },
  {
   "cell_type": "code",
   "execution_count": 8,
   "metadata": {
    "ExecuteTime": {
     "end_time": "2021-03-27T02:26:22.189210Z",
     "start_time": "2021-03-27T02:26:22.180786Z"
    }
   },
   "outputs": [],
   "source": [
    "# https://numpy.org/doc/stable/reference/generated/numpy.set_printoptions.html\n",
    "\n",
    "np.set_printoptions(suppress=True)  # Print floating point numbers using fixed point notation.\n",
    "\n",
    "# https://pandas.pydata.org/pandas-docs/stable/user_guide/options.html\n",
    "\n",
    "# Print out the full DataFrame repr for wide DataFrames across multiple lines.\n",
    "pd.set_option('display.expand_frame_repr', True)\n",
    "pd.set_option('display.max_columns', 500)  # Set to None for unlimited number of output rows.  \n",
    "pd.set_option('display.max_colwidth', None)\n",
    "pd.set_option('display.max_info_columns', 500)\n",
    "pd.set_option('display.max_rows', 500)  # Set to None for unlimited number of output rows.\n",
    "pd.set_option('display.width', 120)  # Width of the display in characters."
   ]
  },
  {
   "cell_type": "markdown",
   "metadata": {},
   "source": [
    "# Read in the data files"
   ]
  },
  {
   "cell_type": "code",
   "execution_count": 9,
   "metadata": {
    "ExecuteTime": {
     "end_time": "2021-03-27T02:26:24.991499Z",
     "start_time": "2021-03-27T02:26:23.289875Z"
    }
   },
   "outputs": [
    {
     "name": "stdout",
     "output_type": "stream",
     "text": [
      "(300000, 31)\n"
     ]
    },
    {
     "data": {
      "text/html": [
       "<div>\n",
       "<style scoped>\n",
       "    .dataframe tbody tr th:only-of-type {\n",
       "        vertical-align: middle;\n",
       "    }\n",
       "\n",
       "    .dataframe tbody tr th {\n",
       "        vertical-align: top;\n",
       "    }\n",
       "\n",
       "    .dataframe thead th {\n",
       "        text-align: right;\n",
       "    }\n",
       "</style>\n",
       "<table border=\"1\" class=\"dataframe\">\n",
       "  <thead>\n",
       "    <tr style=\"text-align: right;\">\n",
       "      <th></th>\n",
       "      <th>cat0</th>\n",
       "      <th>cat1</th>\n",
       "      <th>cat2</th>\n",
       "      <th>cat3</th>\n",
       "      <th>cat4</th>\n",
       "      <th>cat5</th>\n",
       "      <th>cat6</th>\n",
       "      <th>cat7</th>\n",
       "      <th>cat8</th>\n",
       "      <th>cat9</th>\n",
       "      <th>cat10</th>\n",
       "      <th>cat11</th>\n",
       "      <th>cat12</th>\n",
       "      <th>cat13</th>\n",
       "      <th>cat14</th>\n",
       "      <th>cat15</th>\n",
       "      <th>cat16</th>\n",
       "      <th>cat17</th>\n",
       "      <th>cat18</th>\n",
       "      <th>cont0</th>\n",
       "      <th>cont1</th>\n",
       "      <th>cont2</th>\n",
       "      <th>cont3</th>\n",
       "      <th>cont4</th>\n",
       "      <th>cont5</th>\n",
       "      <th>cont6</th>\n",
       "      <th>cont7</th>\n",
       "      <th>cont8</th>\n",
       "      <th>cont9</th>\n",
       "      <th>cont10</th>\n",
       "      <th>target</th>\n",
       "    </tr>\n",
       "    <tr>\n",
       "      <th>id</th>\n",
       "      <th></th>\n",
       "      <th></th>\n",
       "      <th></th>\n",
       "      <th></th>\n",
       "      <th></th>\n",
       "      <th></th>\n",
       "      <th></th>\n",
       "      <th></th>\n",
       "      <th></th>\n",
       "      <th></th>\n",
       "      <th></th>\n",
       "      <th></th>\n",
       "      <th></th>\n",
       "      <th></th>\n",
       "      <th></th>\n",
       "      <th></th>\n",
       "      <th></th>\n",
       "      <th></th>\n",
       "      <th></th>\n",
       "      <th></th>\n",
       "      <th></th>\n",
       "      <th></th>\n",
       "      <th></th>\n",
       "      <th></th>\n",
       "      <th></th>\n",
       "      <th></th>\n",
       "      <th></th>\n",
       "      <th></th>\n",
       "      <th></th>\n",
       "      <th></th>\n",
       "      <th></th>\n",
       "    </tr>\n",
       "  </thead>\n",
       "  <tbody>\n",
       "    <tr>\n",
       "      <th>0</th>\n",
       "      <td>A</td>\n",
       "      <td>I</td>\n",
       "      <td>A</td>\n",
       "      <td>B</td>\n",
       "      <td>B</td>\n",
       "      <td>BI</td>\n",
       "      <td>A</td>\n",
       "      <td>S</td>\n",
       "      <td>Q</td>\n",
       "      <td>A</td>\n",
       "      <td>LO</td>\n",
       "      <td>A</td>\n",
       "      <td>A</td>\n",
       "      <td>A</td>\n",
       "      <td>A</td>\n",
       "      <td>B</td>\n",
       "      <td>D</td>\n",
       "      <td>D</td>\n",
       "      <td>B</td>\n",
       "      <td>0.629858</td>\n",
       "      <td>0.855349</td>\n",
       "      <td>0.759439</td>\n",
       "      <td>0.795549</td>\n",
       "      <td>0.681917</td>\n",
       "      <td>0.621672</td>\n",
       "      <td>0.592184</td>\n",
       "      <td>0.791921</td>\n",
       "      <td>0.815254</td>\n",
       "      <td>0.965006</td>\n",
       "      <td>0.665915</td>\n",
       "      <td>0</td>\n",
       "    </tr>\n",
       "    <tr>\n",
       "      <th>1</th>\n",
       "      <td>A</td>\n",
       "      <td>I</td>\n",
       "      <td>A</td>\n",
       "      <td>A</td>\n",
       "      <td>E</td>\n",
       "      <td>BI</td>\n",
       "      <td>K</td>\n",
       "      <td>W</td>\n",
       "      <td>AD</td>\n",
       "      <td>F</td>\n",
       "      <td>HJ</td>\n",
       "      <td>A</td>\n",
       "      <td>B</td>\n",
       "      <td>A</td>\n",
       "      <td>B</td>\n",
       "      <td>D</td>\n",
       "      <td>B</td>\n",
       "      <td>D</td>\n",
       "      <td>B</td>\n",
       "      <td>0.370727</td>\n",
       "      <td>0.328929</td>\n",
       "      <td>0.386385</td>\n",
       "      <td>0.541366</td>\n",
       "      <td>0.388982</td>\n",
       "      <td>0.357778</td>\n",
       "      <td>0.600044</td>\n",
       "      <td>0.408701</td>\n",
       "      <td>0.399353</td>\n",
       "      <td>0.927406</td>\n",
       "      <td>0.493729</td>\n",
       "      <td>0</td>\n",
       "    </tr>\n",
       "    <tr>\n",
       "      <th>2</th>\n",
       "      <td>A</td>\n",
       "      <td>K</td>\n",
       "      <td>A</td>\n",
       "      <td>A</td>\n",
       "      <td>E</td>\n",
       "      <td>BI</td>\n",
       "      <td>A</td>\n",
       "      <td>E</td>\n",
       "      <td>BM</td>\n",
       "      <td>L</td>\n",
       "      <td>DJ</td>\n",
       "      <td>A</td>\n",
       "      <td>B</td>\n",
       "      <td>A</td>\n",
       "      <td>A</td>\n",
       "      <td>B</td>\n",
       "      <td>D</td>\n",
       "      <td>D</td>\n",
       "      <td>B</td>\n",
       "      <td>0.502272</td>\n",
       "      <td>0.322749</td>\n",
       "      <td>0.343255</td>\n",
       "      <td>0.616352</td>\n",
       "      <td>0.793687</td>\n",
       "      <td>0.552877</td>\n",
       "      <td>0.352113</td>\n",
       "      <td>0.388835</td>\n",
       "      <td>0.412303</td>\n",
       "      <td>0.292696</td>\n",
       "      <td>0.549452</td>\n",
       "      <td>0</td>\n",
       "    </tr>\n",
       "    <tr>\n",
       "      <th>3</th>\n",
       "      <td>A</td>\n",
       "      <td>K</td>\n",
       "      <td>A</td>\n",
       "      <td>C</td>\n",
       "      <td>E</td>\n",
       "      <td>BI</td>\n",
       "      <td>A</td>\n",
       "      <td>Y</td>\n",
       "      <td>AD</td>\n",
       "      <td>F</td>\n",
       "      <td>KV</td>\n",
       "      <td>A</td>\n",
       "      <td>A</td>\n",
       "      <td>A</td>\n",
       "      <td>A</td>\n",
       "      <td>B</td>\n",
       "      <td>D</td>\n",
       "      <td>D</td>\n",
       "      <td>B</td>\n",
       "      <td>0.934242</td>\n",
       "      <td>0.707663</td>\n",
       "      <td>0.831147</td>\n",
       "      <td>0.807807</td>\n",
       "      <td>0.800032</td>\n",
       "      <td>0.619147</td>\n",
       "      <td>0.221789</td>\n",
       "      <td>0.897617</td>\n",
       "      <td>0.633669</td>\n",
       "      <td>0.760318</td>\n",
       "      <td>0.934242</td>\n",
       "      <td>0</td>\n",
       "    </tr>\n",
       "    <tr>\n",
       "      <th>4</th>\n",
       "      <td>A</td>\n",
       "      <td>I</td>\n",
       "      <td>G</td>\n",
       "      <td>B</td>\n",
       "      <td>E</td>\n",
       "      <td>BI</td>\n",
       "      <td>C</td>\n",
       "      <td>G</td>\n",
       "      <td>Q</td>\n",
       "      <td>A</td>\n",
       "      <td>DP</td>\n",
       "      <td>A</td>\n",
       "      <td>A</td>\n",
       "      <td>A</td>\n",
       "      <td>B</td>\n",
       "      <td>B</td>\n",
       "      <td>B</td>\n",
       "      <td>D</td>\n",
       "      <td>B</td>\n",
       "      <td>0.254427</td>\n",
       "      <td>0.274514</td>\n",
       "      <td>0.338818</td>\n",
       "      <td>0.277308</td>\n",
       "      <td>0.610578</td>\n",
       "      <td>0.128291</td>\n",
       "      <td>0.578764</td>\n",
       "      <td>0.279167</td>\n",
       "      <td>0.351103</td>\n",
       "      <td>0.357084</td>\n",
       "      <td>0.328960</td>\n",
       "      <td>1</td>\n",
       "    </tr>\n",
       "  </tbody>\n",
       "</table>\n",
       "</div>"
      ],
      "text/plain": [
       "   cat0 cat1 cat2 cat3 cat4 cat5 cat6 cat7 cat8 cat9 cat10 cat11 cat12 cat13 cat14 cat15 cat16 cat17 cat18     cont0  \\\n",
       "id                                                                                                                     \n",
       "0     A    I    A    B    B   BI    A    S    Q    A    LO     A     A     A     A     B     D     D     B  0.629858   \n",
       "1     A    I    A    A    E   BI    K    W   AD    F    HJ     A     B     A     B     D     B     D     B  0.370727   \n",
       "2     A    K    A    A    E   BI    A    E   BM    L    DJ     A     B     A     A     B     D     D     B  0.502272   \n",
       "3     A    K    A    C    E   BI    A    Y   AD    F    KV     A     A     A     A     B     D     D     B  0.934242   \n",
       "4     A    I    G    B    E   BI    C    G    Q    A    DP     A     A     A     B     B     B     D     B  0.254427   \n",
       "\n",
       "       cont1     cont2     cont3     cont4     cont5     cont6     cont7     cont8     cont9    cont10  target  \n",
       "id                                                                                                              \n",
       "0   0.855349  0.759439  0.795549  0.681917  0.621672  0.592184  0.791921  0.815254  0.965006  0.665915       0  \n",
       "1   0.328929  0.386385  0.541366  0.388982  0.357778  0.600044  0.408701  0.399353  0.927406  0.493729       0  \n",
       "2   0.322749  0.343255  0.616352  0.793687  0.552877  0.352113  0.388835  0.412303  0.292696  0.549452       0  \n",
       "3   0.707663  0.831147  0.807807  0.800032  0.619147  0.221789  0.897617  0.633669  0.760318  0.934242       0  \n",
       "4   0.274514  0.338818  0.277308  0.610578  0.128291  0.578764  0.279167  0.351103  0.357084  0.328960       1  "
      ]
     },
     "metadata": {},
     "output_type": "display_data"
    }
   ],
   "source": [
    "train = pd.read_csv(input_path / 'train.csv.gz', index_col='id')\n",
    "print(train.shape)\n",
    "display(train.head())"
   ]
  },
  {
   "cell_type": "code",
   "execution_count": 10,
   "metadata": {
    "ExecuteTime": {
     "end_time": "2021-03-27T02:26:26.158388Z",
     "start_time": "2021-03-27T02:26:24.993644Z"
    }
   },
   "outputs": [
    {
     "name": "stdout",
     "output_type": "stream",
     "text": [
      "(200000, 30)\n"
     ]
    },
    {
     "data": {
      "text/html": [
       "<div>\n",
       "<style scoped>\n",
       "    .dataframe tbody tr th:only-of-type {\n",
       "        vertical-align: middle;\n",
       "    }\n",
       "\n",
       "    .dataframe tbody tr th {\n",
       "        vertical-align: top;\n",
       "    }\n",
       "\n",
       "    .dataframe thead th {\n",
       "        text-align: right;\n",
       "    }\n",
       "</style>\n",
       "<table border=\"1\" class=\"dataframe\">\n",
       "  <thead>\n",
       "    <tr style=\"text-align: right;\">\n",
       "      <th></th>\n",
       "      <th>cat0</th>\n",
       "      <th>cat1</th>\n",
       "      <th>cat2</th>\n",
       "      <th>cat3</th>\n",
       "      <th>cat4</th>\n",
       "      <th>cat5</th>\n",
       "      <th>cat6</th>\n",
       "      <th>cat7</th>\n",
       "      <th>cat8</th>\n",
       "      <th>cat9</th>\n",
       "      <th>cat10</th>\n",
       "      <th>cat11</th>\n",
       "      <th>cat12</th>\n",
       "      <th>cat13</th>\n",
       "      <th>cat14</th>\n",
       "      <th>cat15</th>\n",
       "      <th>cat16</th>\n",
       "      <th>cat17</th>\n",
       "      <th>cat18</th>\n",
       "      <th>cont0</th>\n",
       "      <th>cont1</th>\n",
       "      <th>cont2</th>\n",
       "      <th>cont3</th>\n",
       "      <th>cont4</th>\n",
       "      <th>cont5</th>\n",
       "      <th>cont6</th>\n",
       "      <th>cont7</th>\n",
       "      <th>cont8</th>\n",
       "      <th>cont9</th>\n",
       "      <th>cont10</th>\n",
       "    </tr>\n",
       "    <tr>\n",
       "      <th>id</th>\n",
       "      <th></th>\n",
       "      <th></th>\n",
       "      <th></th>\n",
       "      <th></th>\n",
       "      <th></th>\n",
       "      <th></th>\n",
       "      <th></th>\n",
       "      <th></th>\n",
       "      <th></th>\n",
       "      <th></th>\n",
       "      <th></th>\n",
       "      <th></th>\n",
       "      <th></th>\n",
       "      <th></th>\n",
       "      <th></th>\n",
       "      <th></th>\n",
       "      <th></th>\n",
       "      <th></th>\n",
       "      <th></th>\n",
       "      <th></th>\n",
       "      <th></th>\n",
       "      <th></th>\n",
       "      <th></th>\n",
       "      <th></th>\n",
       "      <th></th>\n",
       "      <th></th>\n",
       "      <th></th>\n",
       "      <th></th>\n",
       "      <th></th>\n",
       "      <th></th>\n",
       "    </tr>\n",
       "  </thead>\n",
       "  <tbody>\n",
       "    <tr>\n",
       "      <th>5</th>\n",
       "      <td>A</td>\n",
       "      <td>F</td>\n",
       "      <td>A</td>\n",
       "      <td>A</td>\n",
       "      <td>F</td>\n",
       "      <td>BI</td>\n",
       "      <td>A</td>\n",
       "      <td>AH</td>\n",
       "      <td>AX</td>\n",
       "      <td>A</td>\n",
       "      <td>LF</td>\n",
       "      <td>A</td>\n",
       "      <td>A</td>\n",
       "      <td>A</td>\n",
       "      <td>A</td>\n",
       "      <td>B</td>\n",
       "      <td>D</td>\n",
       "      <td>D</td>\n",
       "      <td>B</td>\n",
       "      <td>0.708120</td>\n",
       "      <td>0.735690</td>\n",
       "      <td>0.578366</td>\n",
       "      <td>0.723154</td>\n",
       "      <td>0.228037</td>\n",
       "      <td>0.356227</td>\n",
       "      <td>0.551249</td>\n",
       "      <td>0.655693</td>\n",
       "      <td>0.598331</td>\n",
       "      <td>0.359987</td>\n",
       "      <td>0.947489</td>\n",
       "    </tr>\n",
       "    <tr>\n",
       "      <th>6</th>\n",
       "      <td>A</td>\n",
       "      <td>H</td>\n",
       "      <td>C</td>\n",
       "      <td>A</td>\n",
       "      <td>E</td>\n",
       "      <td>AB</td>\n",
       "      <td>I</td>\n",
       "      <td>F</td>\n",
       "      <td>N</td>\n",
       "      <td>A</td>\n",
       "      <td>MC</td>\n",
       "      <td>A</td>\n",
       "      <td>A</td>\n",
       "      <td>A</td>\n",
       "      <td>B</td>\n",
       "      <td>D</td>\n",
       "      <td>B</td>\n",
       "      <td>D</td>\n",
       "      <td>B</td>\n",
       "      <td>0.611637</td>\n",
       "      <td>0.313703</td>\n",
       "      <td>0.928885</td>\n",
       "      <td>0.516602</td>\n",
       "      <td>0.600169</td>\n",
       "      <td>0.795224</td>\n",
       "      <td>0.248987</td>\n",
       "      <td>0.654614</td>\n",
       "      <td>0.347944</td>\n",
       "      <td>0.565520</td>\n",
       "      <td>0.388580</td>\n",
       "    </tr>\n",
       "    <tr>\n",
       "      <th>8</th>\n",
       "      <td>A</td>\n",
       "      <td>N</td>\n",
       "      <td>C</td>\n",
       "      <td>A</td>\n",
       "      <td>F</td>\n",
       "      <td>AB</td>\n",
       "      <td>A</td>\n",
       "      <td>AH</td>\n",
       "      <td>BC</td>\n",
       "      <td>A</td>\n",
       "      <td>FN</td>\n",
       "      <td>A</td>\n",
       "      <td>A</td>\n",
       "      <td>A</td>\n",
       "      <td>B</td>\n",
       "      <td>B</td>\n",
       "      <td>D</td>\n",
       "      <td>D</td>\n",
       "      <td>B</td>\n",
       "      <td>0.456289</td>\n",
       "      <td>0.448201</td>\n",
       "      <td>0.424876</td>\n",
       "      <td>0.344729</td>\n",
       "      <td>0.242073</td>\n",
       "      <td>0.270632</td>\n",
       "      <td>0.746740</td>\n",
       "      <td>0.335590</td>\n",
       "      <td>0.341238</td>\n",
       "      <td>0.252289</td>\n",
       "      <td>0.411592</td>\n",
       "    </tr>\n",
       "    <tr>\n",
       "      <th>9</th>\n",
       "      <td>B</td>\n",
       "      <td>L</td>\n",
       "      <td>C</td>\n",
       "      <td>A</td>\n",
       "      <td>F</td>\n",
       "      <td>BI</td>\n",
       "      <td>A</td>\n",
       "      <td>E</td>\n",
       "      <td>AX</td>\n",
       "      <td>A</td>\n",
       "      <td>HK</td>\n",
       "      <td>A</td>\n",
       "      <td>A</td>\n",
       "      <td>A</td>\n",
       "      <td>A</td>\n",
       "      <td>B</td>\n",
       "      <td>D</td>\n",
       "      <td>B</td>\n",
       "      <td>B</td>\n",
       "      <td>0.338692</td>\n",
       "      <td>0.666092</td>\n",
       "      <td>0.598943</td>\n",
       "      <td>0.561971</td>\n",
       "      <td>0.806347</td>\n",
       "      <td>0.735983</td>\n",
       "      <td>0.538724</td>\n",
       "      <td>0.381566</td>\n",
       "      <td>0.481660</td>\n",
       "      <td>0.348514</td>\n",
       "      <td>0.325723</td>\n",
       "    </tr>\n",
       "    <tr>\n",
       "      <th>11</th>\n",
       "      <td>A</td>\n",
       "      <td>F</td>\n",
       "      <td>A</td>\n",
       "      <td>B</td>\n",
       "      <td>F</td>\n",
       "      <td>BI</td>\n",
       "      <td>A</td>\n",
       "      <td>AH</td>\n",
       "      <td>I</td>\n",
       "      <td>A</td>\n",
       "      <td>HX</td>\n",
       "      <td>A</td>\n",
       "      <td>A</td>\n",
       "      <td>A</td>\n",
       "      <td>A</td>\n",
       "      <td>D</td>\n",
       "      <td>D</td>\n",
       "      <td>D</td>\n",
       "      <td>B</td>\n",
       "      <td>0.631671</td>\n",
       "      <td>0.772229</td>\n",
       "      <td>0.479572</td>\n",
       "      <td>0.767745</td>\n",
       "      <td>0.252454</td>\n",
       "      <td>0.354810</td>\n",
       "      <td>0.178920</td>\n",
       "      <td>0.763479</td>\n",
       "      <td>0.562491</td>\n",
       "      <td>0.466261</td>\n",
       "      <td>0.585781</td>\n",
       "    </tr>\n",
       "  </tbody>\n",
       "</table>\n",
       "</div>"
      ],
      "text/plain": [
       "   cat0 cat1 cat2 cat3 cat4 cat5 cat6 cat7 cat8 cat9 cat10 cat11 cat12 cat13 cat14 cat15 cat16 cat17 cat18     cont0  \\\n",
       "id                                                                                                                     \n",
       "5     A    F    A    A    F   BI    A   AH   AX    A    LF     A     A     A     A     B     D     D     B  0.708120   \n",
       "6     A    H    C    A    E   AB    I    F    N    A    MC     A     A     A     B     D     B     D     B  0.611637   \n",
       "8     A    N    C    A    F   AB    A   AH   BC    A    FN     A     A     A     B     B     D     D     B  0.456289   \n",
       "9     B    L    C    A    F   BI    A    E   AX    A    HK     A     A     A     A     B     D     B     B  0.338692   \n",
       "11    A    F    A    B    F   BI    A   AH    I    A    HX     A     A     A     A     D     D     D     B  0.631671   \n",
       "\n",
       "       cont1     cont2     cont3     cont4     cont5     cont6     cont7     cont8     cont9    cont10  \n",
       "id                                                                                                      \n",
       "5   0.735690  0.578366  0.723154  0.228037  0.356227  0.551249  0.655693  0.598331  0.359987  0.947489  \n",
       "6   0.313703  0.928885  0.516602  0.600169  0.795224  0.248987  0.654614  0.347944  0.565520  0.388580  \n",
       "8   0.448201  0.424876  0.344729  0.242073  0.270632  0.746740  0.335590  0.341238  0.252289  0.411592  \n",
       "9   0.666092  0.598943  0.561971  0.806347  0.735983  0.538724  0.381566  0.481660  0.348514  0.325723  \n",
       "11  0.772229  0.479572  0.767745  0.252454  0.354810  0.178920  0.763479  0.562491  0.466261  0.585781  "
      ]
     },
     "metadata": {},
     "output_type": "display_data"
    }
   ],
   "source": [
    "test = pd.read_csv(input_path / 'test.csv.gz', index_col='id')\n",
    "print(test.shape)\n",
    "display(test.head())"
   ]
  },
  {
   "cell_type": "code",
   "execution_count": 11,
   "metadata": {
    "ExecuteTime": {
     "end_time": "2021-03-27T02:26:26.227769Z",
     "start_time": "2021-03-27T02:26:26.160926Z"
    }
   },
   "outputs": [
    {
     "data": {
      "text/html": [
       "<div>\n",
       "<style scoped>\n",
       "    .dataframe tbody tr th:only-of-type {\n",
       "        vertical-align: middle;\n",
       "    }\n",
       "\n",
       "    .dataframe tbody tr th {\n",
       "        vertical-align: top;\n",
       "    }\n",
       "\n",
       "    .dataframe thead th {\n",
       "        text-align: right;\n",
       "    }\n",
       "</style>\n",
       "<table border=\"1\" class=\"dataframe\">\n",
       "  <thead>\n",
       "    <tr style=\"text-align: right;\">\n",
       "      <th></th>\n",
       "      <th>target</th>\n",
       "    </tr>\n",
       "    <tr>\n",
       "      <th>id</th>\n",
       "      <th></th>\n",
       "    </tr>\n",
       "  </thead>\n",
       "  <tbody>\n",
       "    <tr>\n",
       "      <th>5</th>\n",
       "      <td>0.5</td>\n",
       "    </tr>\n",
       "    <tr>\n",
       "      <th>6</th>\n",
       "      <td>0.5</td>\n",
       "    </tr>\n",
       "    <tr>\n",
       "      <th>8</th>\n",
       "      <td>0.5</td>\n",
       "    </tr>\n",
       "    <tr>\n",
       "      <th>9</th>\n",
       "      <td>0.5</td>\n",
       "    </tr>\n",
       "    <tr>\n",
       "      <th>11</th>\n",
       "      <td>0.5</td>\n",
       "    </tr>\n",
       "  </tbody>\n",
       "</table>\n",
       "</div>"
      ],
      "text/plain": [
       "    target\n",
       "id        \n",
       "5      0.5\n",
       "6      0.5\n",
       "8      0.5\n",
       "9      0.5\n",
       "11     0.5"
      ]
     },
     "metadata": {},
     "output_type": "display_data"
    }
   ],
   "source": [
    "submission = pd.read_csv(input_path / 'sample_submission.csv.gz', index_col='id')\n",
    "display(submission.head())"
   ]
  },
  {
   "cell_type": "markdown",
   "metadata": {},
   "source": [
    "# Balance of target"
   ]
  },
  {
   "cell_type": "code",
   "execution_count": 12,
   "metadata": {
    "ExecuteTime": {
     "end_time": "2021-03-27T02:26:27.783908Z",
     "start_time": "2021-03-27T02:26:27.759747Z"
    }
   },
   "outputs": [
    {
     "data": {
      "text/plain": [
       "0    0.73513\n",
       "1    0.26487\n",
       "Name: target, dtype: float64"
      ]
     },
     "execution_count": 12,
     "metadata": {},
     "output_type": "execute_result"
    }
   ],
   "source": [
    "train['target'].value_counts(normalize=True)"
   ]
  },
  {
   "cell_type": "markdown",
   "metadata": {},
   "source": [
    "Not 1:1 but not very imbalanced."
   ]
  },
  {
   "cell_type": "markdown",
   "metadata": {},
   "source": [
    "# EDA"
   ]
  },
  {
   "cell_type": "code",
   "execution_count": 13,
   "metadata": {
    "ExecuteTime": {
     "end_time": "2021-03-27T02:26:29.526336Z",
     "start_time": "2021-03-27T02:26:29.523770Z"
    }
   },
   "outputs": [],
   "source": [
    "# profile = pandas_profiling.ProfileReport(train, explorative=True)"
   ]
  },
  {
   "cell_type": "code",
   "execution_count": 14,
   "metadata": {
    "ExecuteTime": {
     "end_time": "2021-03-27T02:26:29.779380Z",
     "start_time": "2021-03-27T02:26:29.777076Z"
    }
   },
   "outputs": [],
   "source": [
    "# profile.to_notebook_iframe()"
   ]
  },
  {
   "cell_type": "markdown",
   "metadata": {},
   "source": [
    "Observations:\n",
    "\n",
    "* No missing cells, duplicate rows, or outliers.\n",
    "* cat5, cat7, cat8, cat10 have high cardinality\n",
    "* cat1, cat2, cat3, cat5, cat6, cat9 have medium cardinality\n",
    "* cat0, cat11, cat12, cat13, cat14 have only two categories. cat0 and cat14 are more balanced.\n",
    "* cat15, cat16, cat17, cat18 have 4 but could be made into binary unless the individual categories have high correlation with target."
   ]
  },
  {
   "cell_type": "markdown",
   "metadata": {},
   "source": [
    "## EDA of Continuous Variables"
   ]
  },
  {
   "cell_type": "code",
   "execution_count": 15,
   "metadata": {
    "ExecuteTime": {
     "end_time": "2021-03-27T02:26:37.946217Z",
     "start_time": "2021-03-27T02:26:37.941479Z"
    }
   },
   "outputs": [
    {
     "data": {
      "text/plain": [
       "['cont0',\n",
       " 'cont1',\n",
       " 'cont2',\n",
       " 'cont3',\n",
       " 'cont4',\n",
       " 'cont5',\n",
       " 'cont6',\n",
       " 'cont7',\n",
       " 'cont8',\n",
       " 'cont9',\n",
       " 'cont10']"
      ]
     },
     "execution_count": 15,
     "metadata": {},
     "output_type": "execute_result"
    }
   ],
   "source": [
    "cont_vars = [c for c in train.columns if c.startswith('cont')]\n",
    "cont_vars"
   ]
  },
  {
   "cell_type": "code",
   "execution_count": 16,
   "metadata": {
    "ExecuteTime": {
     "end_time": "2021-03-27T02:26:38.518427Z",
     "start_time": "2021-03-27T02:26:38.516106Z"
    }
   },
   "outputs": [],
   "source": [
    "# for cont_var in cont_vars:\n",
    "#     sns.histplot(\n",
    "#         x=cont_var,\n",
    "#         data=train,\n",
    "#         hue='target',\n",
    "#     );\n",
    "#     plt.show();"
   ]
  },
  {
   "cell_type": "code",
   "execution_count": 17,
   "metadata": {
    "ExecuteTime": {
     "end_time": "2021-03-27T02:26:39.254604Z",
     "start_time": "2021-03-27T02:26:39.252376Z"
    }
   },
   "outputs": [],
   "source": [
    "# pd.plotting.scatter_matrix(train, alpha=0.2);"
   ]
  },
  {
   "cell_type": "code",
   "execution_count": 18,
   "metadata": {
    "ExecuteTime": {
     "end_time": "2021-03-27T02:26:39.639548Z",
     "start_time": "2021-03-27T02:26:39.637102Z"
    }
   },
   "outputs": [],
   "source": [
    "# corrDf = train[cont_vars + ['target']].corr().abs()\n",
    "\n",
    "# for col in corrDf.columns:\n",
    "#     corrDf.loc[col, col] = 0\n",
    "\n",
    "# idxmax = corrDf.idxmax(axis='columns')\n",
    "# max_ = corrDf.max(axis='columns')\n",
    "\n",
    "# (\n",
    "#     pd.DataFrame(\n",
    "#         index=corrDf.index,\n",
    "#         data={\n",
    "#             'idxmax': idxmax,\n",
    "#             'max': max_,\n",
    "#         },\n",
    "#     )\n",
    "#     .sort_values(\n",
    "#         by=[\n",
    "#             'max',\n",
    "#         ],\n",
    "#         ascending=False,\n",
    "#     )\n",
    "# )"
   ]
  },
  {
   "cell_type": "markdown",
   "metadata": {},
   "source": [
    "Observations:\n",
    "\n",
    "* Cont1 and Cont2 are highly dependent on each other! Better to remove one of them, or take the difference between them as a feature.\n",
    "* Cont0 and Cont10 are also highly dependent on each other, as are count7 and count10.\n"
   ]
  },
  {
   "cell_type": "markdown",
   "metadata": {},
   "source": [
    "## EDA of Categorical Variables"
   ]
  },
  {
   "cell_type": "code",
   "execution_count": 19,
   "metadata": {
    "ExecuteTime": {
     "end_time": "2021-03-27T02:26:41.113991Z",
     "start_time": "2021-03-27T02:26:41.109650Z"
    }
   },
   "outputs": [
    {
     "data": {
      "text/plain": [
       "['cat0',\n",
       " 'cat1',\n",
       " 'cat2',\n",
       " 'cat3',\n",
       " 'cat4',\n",
       " 'cat5',\n",
       " 'cat6',\n",
       " 'cat7',\n",
       " 'cat8',\n",
       " 'cat9',\n",
       " 'cat10',\n",
       " 'cat11',\n",
       " 'cat12',\n",
       " 'cat13',\n",
       " 'cat14',\n",
       " 'cat15',\n",
       " 'cat16',\n",
       " 'cat17',\n",
       " 'cat18']"
      ]
     },
     "execution_count": 19,
     "metadata": {},
     "output_type": "execute_result"
    }
   ],
   "source": [
    "cat_vars = [c for c in train.columns if c.startswith('cat')]\n",
    "cat_vars"
   ]
  },
  {
   "cell_type": "code",
   "execution_count": 20,
   "metadata": {
    "ExecuteTime": {
     "end_time": "2021-03-27T02:26:42.276228Z",
     "start_time": "2021-03-27T02:26:41.643167Z"
    }
   },
   "outputs": [],
   "source": [
    "for cat_var in cat_vars:\n",
    "    train[cat_var] = train[cat_var].astype('category')"
   ]
  },
  {
   "cell_type": "code",
   "execution_count": 21,
   "metadata": {
    "ExecuteTime": {
     "end_time": "2021-03-27T02:26:42.280354Z",
     "start_time": "2021-03-27T02:26:42.278379Z"
    }
   },
   "outputs": [],
   "source": [
    "# for cat_var in cat_vars:\n",
    "#     sns.catplot(x=cat_var, y=\"target\", data=train, kind=\"bar\",);\n",
    "#     plt.show();"
   ]
  },
  {
   "cell_type": "markdown",
   "metadata": {},
   "source": [
    "# Transformations"
   ]
  },
  {
   "cell_type": "markdown",
   "metadata": {},
   "source": [
    "## Transform Continuous Variables"
   ]
  },
  {
   "cell_type": "code",
   "execution_count": 22,
   "metadata": {
    "ExecuteTime": {
     "end_time": "2021-03-27T02:26:43.529026Z",
     "start_time": "2021-03-27T02:26:43.517279Z"
    }
   },
   "outputs": [],
   "source": [
    "def subtractCorrelated(df):\n",
    "    df['cont1m2'] = df['cont1'] - df['cont2']\n",
    "    df['cont1m10'] = df['cont1'] - df['cont10']\n",
    "    df['cont0m7'] = df['cont0'] - df['cont7']\n",
    "    df['cont1m8'] = df['cont1'] - df['cont8']\n",
    "    df = (\n",
    "        df\n",
    "        .drop(\n",
    "            columns=[\n",
    "                'cont2',\n",
    "                'cont10',\n",
    "                'cont7',\n",
    "                'cont8'\n",
    "            ]\n",
    "        )\n",
    "    )\n",
    "\n",
    "    return df"
   ]
  },
  {
   "cell_type": "code",
   "execution_count": 23,
   "metadata": {
    "ExecuteTime": {
     "end_time": "2021-03-27T02:26:43.987244Z",
     "start_time": "2021-03-27T02:26:43.984294Z"
    }
   },
   "outputs": [],
   "source": [
    "# train = subtractCorrelated(train)\n",
    "# test = subtractCorrelated(test)"
   ]
  },
  {
   "cell_type": "code",
   "execution_count": 24,
   "metadata": {
    "ExecuteTime": {
     "end_time": "2021-03-27T02:26:44.373249Z",
     "start_time": "2021-03-27T02:26:44.367473Z"
    }
   },
   "outputs": [
    {
     "data": {
      "text/plain": [
       "((300000, 31), (200000, 30))"
      ]
     },
     "execution_count": 24,
     "metadata": {},
     "output_type": "execute_result"
    }
   ],
   "source": [
    "train.shape, test.shape"
   ]
  },
  {
   "cell_type": "code",
   "execution_count": 25,
   "metadata": {
    "ExecuteTime": {
     "end_time": "2021-03-27T02:26:44.772997Z",
     "start_time": "2021-03-27T02:26:44.770665Z"
    }
   },
   "outputs": [],
   "source": [
    "# corrDf = train[cont_vars + ['target']].corr().abs()\n",
    "\n",
    "# for col in corrDf.columns:\n",
    "#     corrDf.loc[col, col] = 0\n",
    "\n",
    "# idxmax = corrDf.idxmax(axis='columns')\n",
    "# max_ = corrDf.max(axis='columns')\n",
    "\n",
    "# display(\n",
    "#     pd.DataFrame(\n",
    "#         index=corrDf.index,\n",
    "#         data={\n",
    "#             'idxmax': idxmax,\n",
    "#             'max': max_,\n",
    "#         },\n",
    "#     )\n",
    "#     .sort_values(\n",
    "#         by=[\n",
    "#             'max',\n",
    "#         ],\n",
    "#         ascending=False,\n",
    "#     )\n",
    "# )\n",
    "\n",
    "# display(corrDf['target'])"
   ]
  },
  {
   "cell_type": "markdown",
   "metadata": {},
   "source": [
    "## Transform Categorical Variables"
   ]
  },
  {
   "cell_type": "code",
   "execution_count": 26,
   "metadata": {
    "ExecuteTime": {
     "end_time": "2021-03-27T02:26:45.643373Z",
     "start_time": "2021-03-27T02:26:45.631007Z"
    }
   },
   "outputs": [],
   "source": [
    "def manuallyHandleCategorical(df):\n",
    "    # cat15, cat16, cat17, cat18 have 4 but could be made into binary.\n",
    "\n",
    "    mask = df['cat15'].isin(['B', 'D'])\n",
    "    df.loc[~mask, 'cat15'] = 'B'  # Replace others with mode.\n",
    "\n",
    "    mask = df['cat16'].isin(['B', 'D'])\n",
    "    df.loc[~mask, 'cat16'] = 'D'  # Replace others with mode.\n",
    "\n",
    "    mask = df['cat17'].isin(['B', 'D'])\n",
    "    df.loc[~mask, 'cat17'] = 'D'  # Replace others with mode.\n",
    "\n",
    "    mask = df['cat18'].isin(['B', 'D'])\n",
    "    df.loc[~mask, 'cat18'] = 'D'  # Replace others with mode.\n",
    "    \n",
    "    # cat1, cat2, cat3, cat5, cat6, cat9 have medium cardinality\n",
    "\n",
    "    col = 'cat1'\n",
    "    s = ['I', 'F', 'K', 'L', 'H']\n",
    "    mode = 'I'\n",
    "    mask = df[col].isin(s)\n",
    "    df.loc[~mask, col] = mode  # Replace others with mode.\n",
    "\n",
    "    col = 'cat2'\n",
    "    s = ['A', 'C', 'D', 'G']\n",
    "    mode = 'A'\n",
    "    mask = df[col].isin(s)\n",
    "    df.loc[~mask, col] = mode  # Replace others with mode.\n",
    "\n",
    "    col = 'cat3'\n",
    "    s = ['A', 'B', 'C']\n",
    "    mode = 'A'\n",
    "    mask = df[col].isin(s)\n",
    "    df.loc[~mask, col] = mode  # Replace others with mode.\n",
    "\n",
    "    col = 'cat5'\n",
    "    s = ['BI', 'AB']\n",
    "    mode = 'BI'\n",
    "    mask = df[col].isin(s)\n",
    "    df.loc[~mask, col] = mode  # Replace others with mode.\n",
    "\n",
    "    col = 'cat6'\n",
    "    s = ['A', 'C', 'E']\n",
    "    mode = 'A'\n",
    "    mask = df[col].isin(s)\n",
    "    df.loc[~mask, col] = mode  # Replace others with mode.\n",
    "\n",
    "    col = 'cat9'\n",
    "    s = ['A', 'C', 'E']\n",
    "    mode = 'A'\n",
    "    mask = df[col].isin(s)\n",
    "    df.loc[~mask, col] = mode  # Replace others with mode.\n",
    "\n",
    "    col = 'cat7'\n",
    "    s = ['AH', 'E', 'AS', 'J', 'AN', 'U',]\n",
    "    mode = 'AH'\n",
    "    mask = df[col].isin(s)\n",
    "    df.loc[~mask, col] = mode  # Replace others with mode.\n",
    "\n",
    "    col = 'cat8'\n",
    "    s = ['BM', 'AE', 'AX', 'Y', 'H',]\n",
    "    mode = 'BM'\n",
    "    mask = df[col].isin(s)\n",
    "    df.loc[~mask, col] = mode  # Replace others with mode.\n",
    "\n",
    "    col = 'cat10'\n",
    "    s = ['DJ', 'HK', 'DP', 'GS',]\n",
    "    mode = 'DJ'\n",
    "    mask = df[col].isin(s)\n",
    "    df.loc[~mask, col] = mode  # Replace others with mode."
   ]
  },
  {
   "cell_type": "code",
   "execution_count": 27,
   "metadata": {
    "ExecuteTime": {
     "end_time": "2021-03-27T02:26:46.300920Z",
     "start_time": "2021-03-27T02:26:46.298514Z"
    }
   },
   "outputs": [],
   "source": [
    "# train = manuallyHandleCategorical(train)\n",
    "# test = manuallyHandleCategorical(test)"
   ]
  },
  {
   "cell_type": "code",
   "execution_count": 28,
   "metadata": {
    "ExecuteTime": {
     "end_time": "2021-03-27T02:26:46.800125Z",
     "start_time": "2021-03-27T02:26:46.796349Z"
    }
   },
   "outputs": [
    {
     "data": {
      "text/plain": [
       "((300000, 31), (200000, 30))"
      ]
     },
     "execution_count": 28,
     "metadata": {},
     "output_type": "execute_result"
    }
   ],
   "source": [
    "train.shape, test.shape"
   ]
  },
  {
   "cell_type": "markdown",
   "metadata": {},
   "source": [
    "# Train"
   ]
  },
  {
   "cell_type": "markdown",
   "metadata": {},
   "source": [
    "## Pull out the target, and make a validation split"
   ]
  },
  {
   "cell_type": "code",
   "execution_count": 29,
   "metadata": {
    "ExecuteTime": {
     "end_time": "2021-03-27T02:26:47.985499Z",
     "start_time": "2021-03-27T02:26:47.975543Z"
    }
   },
   "outputs": [],
   "source": [
    "target = train.pop('target')"
   ]
  },
  {
   "cell_type": "code",
   "execution_count": 30,
   "metadata": {
    "ExecuteTime": {
     "end_time": "2021-03-27T02:26:48.366446Z",
     "start_time": "2021-03-27T02:26:48.362478Z"
    }
   },
   "outputs": [
    {
     "data": {
      "text/plain": [
       "((300000, 30), (200000, 30))"
      ]
     },
     "execution_count": 30,
     "metadata": {},
     "output_type": "execute_result"
    }
   ],
   "source": [
    "train.shape, test.shape"
   ]
  },
  {
   "cell_type": "code",
   "execution_count": 31,
   "metadata": {
    "ExecuteTime": {
     "end_time": "2021-03-27T02:26:48.903108Z",
     "start_time": "2021-03-27T02:26:48.805881Z"
    }
   },
   "outputs": [],
   "source": [
    "X_train, X_test, y_train, y_test = train_test_split(train, target, test_size=0.25)"
   ]
  },
  {
   "cell_type": "code",
   "execution_count": 32,
   "metadata": {
    "ExecuteTime": {
     "end_time": "2021-03-27T02:26:49.416259Z",
     "start_time": "2021-03-27T02:26:49.413387Z"
    }
   },
   "outputs": [],
   "source": [
    "def getOHE():\n",
    "    return OneHotEncoder(sparse=False)"
   ]
  },
  {
   "cell_type": "code",
   "execution_count": 33,
   "metadata": {
    "ExecuteTime": {
     "end_time": "2021-03-27T02:26:49.857741Z",
     "start_time": "2021-03-27T02:26:49.855335Z"
    }
   },
   "outputs": [],
   "source": [
    "def getLE():\n",
    "    return LabelEncoder()"
   ]
  },
  {
   "cell_type": "code",
   "execution_count": 34,
   "metadata": {
    "ExecuteTime": {
     "end_time": "2021-03-27T02:26:50.424561Z",
     "start_time": "2021-03-27T02:26:50.421919Z"
    }
   },
   "outputs": [],
   "source": [
    "enc = getLE()\n",
    "# enc = getOHE()"
   ]
  },
  {
   "cell_type": "code",
   "execution_count": 35,
   "metadata": {
    "ExecuteTime": {
     "end_time": "2021-03-27T02:26:53.345139Z",
     "start_time": "2021-03-27T02:26:51.045173Z"
    }
   },
   "outputs": [],
   "source": [
    "X_train_enc = X_train.copy()\n",
    "X_test_enc = X_test.copy()\n",
    "\n",
    "for c in X_train_enc[cat_vars].columns:\n",
    "    enc.fit(list(X_train_enc[c].values) + list(X_test_enc[c].values))\n",
    "    X_train_enc[c] = enc.transform(X_train_enc[c].values)\n",
    "    X_test_enc[c] = enc.transform(X_test_enc[c].values)"
   ]
  },
  {
   "cell_type": "code",
   "execution_count": 36,
   "metadata": {
    "ExecuteTime": {
     "end_time": "2021-03-27T02:26:53.350186Z",
     "start_time": "2021-03-27T02:26:53.347156Z"
    }
   },
   "outputs": [
    {
     "data": {
      "text/plain": [
       "((225000, 30), (225000, 30), (75000, 30), (75000, 30))"
      ]
     },
     "execution_count": 36,
     "metadata": {},
     "output_type": "execute_result"
    }
   ],
   "source": [
    "X_train.shape, X_train_enc.shape, X_test.shape, X_test_enc.shape"
   ]
  },
  {
   "cell_type": "code",
   "execution_count": 37,
   "metadata": {
    "ExecuteTime": {
     "end_time": "2021-03-27T02:26:53.374505Z",
     "start_time": "2021-03-27T02:26:53.352637Z"
    }
   },
   "outputs": [
    {
     "data": {
      "text/html": [
       "<div>\n",
       "<style scoped>\n",
       "    .dataframe tbody tr th:only-of-type {\n",
       "        vertical-align: middle;\n",
       "    }\n",
       "\n",
       "    .dataframe tbody tr th {\n",
       "        vertical-align: top;\n",
       "    }\n",
       "\n",
       "    .dataframe thead th {\n",
       "        text-align: right;\n",
       "    }\n",
       "</style>\n",
       "<table border=\"1\" class=\"dataframe\">\n",
       "  <thead>\n",
       "    <tr style=\"text-align: right;\">\n",
       "      <th></th>\n",
       "      <th>cat0</th>\n",
       "      <th>cat1</th>\n",
       "      <th>cat2</th>\n",
       "      <th>cat3</th>\n",
       "      <th>cat4</th>\n",
       "      <th>cat5</th>\n",
       "      <th>cat6</th>\n",
       "      <th>cat7</th>\n",
       "      <th>cat8</th>\n",
       "      <th>cat9</th>\n",
       "      <th>cat10</th>\n",
       "      <th>cat11</th>\n",
       "      <th>cat12</th>\n",
       "      <th>cat13</th>\n",
       "      <th>cat14</th>\n",
       "      <th>cat15</th>\n",
       "      <th>cat16</th>\n",
       "      <th>cat17</th>\n",
       "      <th>cat18</th>\n",
       "      <th>cont0</th>\n",
       "      <th>cont1</th>\n",
       "      <th>cont2</th>\n",
       "      <th>cont3</th>\n",
       "      <th>cont4</th>\n",
       "      <th>cont5</th>\n",
       "      <th>cont6</th>\n",
       "      <th>cont7</th>\n",
       "      <th>cont8</th>\n",
       "      <th>cont9</th>\n",
       "      <th>cont10</th>\n",
       "    </tr>\n",
       "    <tr>\n",
       "      <th>id</th>\n",
       "      <th></th>\n",
       "      <th></th>\n",
       "      <th></th>\n",
       "      <th></th>\n",
       "      <th></th>\n",
       "      <th></th>\n",
       "      <th></th>\n",
       "      <th></th>\n",
       "      <th></th>\n",
       "      <th></th>\n",
       "      <th></th>\n",
       "      <th></th>\n",
       "      <th></th>\n",
       "      <th></th>\n",
       "      <th></th>\n",
       "      <th></th>\n",
       "      <th></th>\n",
       "      <th></th>\n",
       "      <th></th>\n",
       "      <th></th>\n",
       "      <th></th>\n",
       "      <th></th>\n",
       "      <th></th>\n",
       "      <th></th>\n",
       "      <th></th>\n",
       "      <th></th>\n",
       "      <th></th>\n",
       "      <th></th>\n",
       "      <th></th>\n",
       "      <th></th>\n",
       "    </tr>\n",
       "  </thead>\n",
       "  <tbody>\n",
       "    <tr>\n",
       "      <th>16814</th>\n",
       "      <td>0</td>\n",
       "      <td>10</td>\n",
       "      <td>0</td>\n",
       "      <td>3</td>\n",
       "      <td>4</td>\n",
       "      <td>33</td>\n",
       "      <td>0</td>\n",
       "      <td>30</td>\n",
       "      <td>4</td>\n",
       "      <td>9</td>\n",
       "      <td>69</td>\n",
       "      <td>0</td>\n",
       "      <td>0</td>\n",
       "      <td>0</td>\n",
       "      <td>0</td>\n",
       "      <td>1</td>\n",
       "      <td>3</td>\n",
       "      <td>3</td>\n",
       "      <td>1</td>\n",
       "      <td>0.291524</td>\n",
       "      <td>0.345611</td>\n",
       "      <td>0.341304</td>\n",
       "      <td>0.560810</td>\n",
       "      <td>0.810968</td>\n",
       "      <td>0.732234</td>\n",
       "      <td>0.449314</td>\n",
       "      <td>0.390780</td>\n",
       "      <td>0.435947</td>\n",
       "      <td>0.314461</td>\n",
       "      <td>0.335669</td>\n",
       "    </tr>\n",
       "    <tr>\n",
       "      <th>329821</th>\n",
       "      <td>1</td>\n",
       "      <td>8</td>\n",
       "      <td>0</td>\n",
       "      <td>1</td>\n",
       "      <td>3</td>\n",
       "      <td>2</td>\n",
       "      <td>0</td>\n",
       "      <td>8</td>\n",
       "      <td>57</td>\n",
       "      <td>0</td>\n",
       "      <td>63</td>\n",
       "      <td>0</td>\n",
       "      <td>0</td>\n",
       "      <td>0</td>\n",
       "      <td>0</td>\n",
       "      <td>1</td>\n",
       "      <td>3</td>\n",
       "      <td>3</td>\n",
       "      <td>3</td>\n",
       "      <td>0.285630</td>\n",
       "      <td>0.217443</td>\n",
       "      <td>0.285977</td>\n",
       "      <td>0.285826</td>\n",
       "      <td>0.614740</td>\n",
       "      <td>0.104228</td>\n",
       "      <td>0.392326</td>\n",
       "      <td>0.241739</td>\n",
       "      <td>0.264836</td>\n",
       "      <td>0.261100</td>\n",
       "      <td>0.304086</td>\n",
       "    </tr>\n",
       "    <tr>\n",
       "      <th>103492</th>\n",
       "      <td>0</td>\n",
       "      <td>8</td>\n",
       "      <td>2</td>\n",
       "      <td>0</td>\n",
       "      <td>4</td>\n",
       "      <td>33</td>\n",
       "      <td>2</td>\n",
       "      <td>46</td>\n",
       "      <td>23</td>\n",
       "      <td>0</td>\n",
       "      <td>75</td>\n",
       "      <td>0</td>\n",
       "      <td>0</td>\n",
       "      <td>0</td>\n",
       "      <td>1</td>\n",
       "      <td>0</td>\n",
       "      <td>3</td>\n",
       "      <td>3</td>\n",
       "      <td>1</td>\n",
       "      <td>0.446771</td>\n",
       "      <td>0.208368</td>\n",
       "      <td>0.317481</td>\n",
       "      <td>0.343184</td>\n",
       "      <td>0.299323</td>\n",
       "      <td>0.158725</td>\n",
       "      <td>0.476149</td>\n",
       "      <td>0.318302</td>\n",
       "      <td>0.295236</td>\n",
       "      <td>0.327061</td>\n",
       "      <td>0.254257</td>\n",
       "    </tr>\n",
       "    <tr>\n",
       "      <th>13022</th>\n",
       "      <td>0</td>\n",
       "      <td>7</td>\n",
       "      <td>0</td>\n",
       "      <td>10</td>\n",
       "      <td>7</td>\n",
       "      <td>33</td>\n",
       "      <td>4</td>\n",
       "      <td>39</td>\n",
       "      <td>48</td>\n",
       "      <td>0</td>\n",
       "      <td>163</td>\n",
       "      <td>0</td>\n",
       "      <td>0</td>\n",
       "      <td>0</td>\n",
       "      <td>1</td>\n",
       "      <td>3</td>\n",
       "      <td>1</td>\n",
       "      <td>1</td>\n",
       "      <td>2</td>\n",
       "      <td>0.581347</td>\n",
       "      <td>0.797629</td>\n",
       "      <td>0.954224</td>\n",
       "      <td>0.209621</td>\n",
       "      <td>0.787311</td>\n",
       "      <td>0.780718</td>\n",
       "      <td>0.947566</td>\n",
       "      <td>0.433113</td>\n",
       "      <td>0.674925</td>\n",
       "      <td>0.549205</td>\n",
       "      <td>0.531582</td>\n",
       "    </tr>\n",
       "    <tr>\n",
       "      <th>138479</th>\n",
       "      <td>0</td>\n",
       "      <td>8</td>\n",
       "      <td>9</td>\n",
       "      <td>0</td>\n",
       "      <td>4</td>\n",
       "      <td>33</td>\n",
       "      <td>4</td>\n",
       "      <td>0</td>\n",
       "      <td>51</td>\n",
       "      <td>0</td>\n",
       "      <td>69</td>\n",
       "      <td>0</td>\n",
       "      <td>0</td>\n",
       "      <td>0</td>\n",
       "      <td>1</td>\n",
       "      <td>1</td>\n",
       "      <td>1</td>\n",
       "      <td>3</td>\n",
       "      <td>1</td>\n",
       "      <td>0.284765</td>\n",
       "      <td>0.324467</td>\n",
       "      <td>0.357042</td>\n",
       "      <td>0.602812</td>\n",
       "      <td>0.235728</td>\n",
       "      <td>0.278267</td>\n",
       "      <td>0.491750</td>\n",
       "      <td>0.308553</td>\n",
       "      <td>0.343072</td>\n",
       "      <td>0.352830</td>\n",
       "      <td>0.387701</td>\n",
       "    </tr>\n",
       "  </tbody>\n",
       "</table>\n",
       "</div>"
      ],
      "text/plain": [
       "        cat0  cat1  cat2  cat3  cat4  cat5  cat6  cat7  cat8  cat9  cat10  cat11  cat12  cat13  cat14  cat15  cat16  \\\n",
       "id                                                                                                                    \n",
       "16814      0    10     0     3     4    33     0    30     4     9     69      0      0      0      0      1      3   \n",
       "329821     1     8     0     1     3     2     0     8    57     0     63      0      0      0      0      1      3   \n",
       "103492     0     8     2     0     4    33     2    46    23     0     75      0      0      0      1      0      3   \n",
       "13022      0     7     0    10     7    33     4    39    48     0    163      0      0      0      1      3      1   \n",
       "138479     0     8     9     0     4    33     4     0    51     0     69      0      0      0      1      1      1   \n",
       "\n",
       "        cat17  cat18     cont0     cont1     cont2     cont3     cont4     cont5     cont6     cont7     cont8  \\\n",
       "id                                                                                                               \n",
       "16814       3      1  0.291524  0.345611  0.341304  0.560810  0.810968  0.732234  0.449314  0.390780  0.435947   \n",
       "329821      3      3  0.285630  0.217443  0.285977  0.285826  0.614740  0.104228  0.392326  0.241739  0.264836   \n",
       "103492      3      1  0.446771  0.208368  0.317481  0.343184  0.299323  0.158725  0.476149  0.318302  0.295236   \n",
       "13022       1      2  0.581347  0.797629  0.954224  0.209621  0.787311  0.780718  0.947566  0.433113  0.674925   \n",
       "138479      3      1  0.284765  0.324467  0.357042  0.602812  0.235728  0.278267  0.491750  0.308553  0.343072   \n",
       "\n",
       "           cont9    cont10  \n",
       "id                          \n",
       "16814   0.314461  0.335669  \n",
       "329821  0.261100  0.304086  \n",
       "103492  0.327061  0.254257  \n",
       "13022   0.549205  0.531582  \n",
       "138479  0.352830  0.387701  "
      ]
     },
     "execution_count": 37,
     "metadata": {},
     "output_type": "execute_result"
    }
   ],
   "source": [
    "X_train_enc.head()"
   ]
  },
  {
   "cell_type": "code",
   "execution_count": 38,
   "metadata": {
    "ExecuteTime": {
     "end_time": "2021-03-27T02:26:53.381683Z",
     "start_time": "2021-03-27T02:26:53.377779Z"
    }
   },
   "outputs": [],
   "source": [
    "def getRFC():\n",
    "    return RandomForestClassifier(n_estimators=200, max_depth=7, n_jobs=-1, verbose=1)"
   ]
  },
  {
   "cell_type": "code",
   "execution_count": 39,
   "metadata": {
    "ExecuteTime": {
     "end_time": "2021-03-27T02:26:53.386470Z",
     "start_time": "2021-03-27T02:26:53.383783Z"
    }
   },
   "outputs": [],
   "source": [
    "def getXgb():\n",
    "    return xgb.XGBClassifier(\n",
    "        n_jobs=-1,\n",
    "        random_state=0,\n",
    "        use_label_encoder=False,\n",
    "    )"
   ]
  },
  {
   "cell_type": "code",
   "execution_count": 40,
   "metadata": {
    "ExecuteTime": {
     "end_time": "2021-03-27T02:26:54.076601Z",
     "start_time": "2021-03-27T02:26:54.071889Z"
    }
   },
   "outputs": [],
   "source": [
    "def getRsXgb():\n",
    "    params = {\n",
    "        'min_child_weight': [1, 4],\n",
    "        'gamma': [0, 0.5, 1],\n",
    "        'subsample': [0.6, 0.8, 1.0],\n",
    "        'colsample_bytree': [0.6, 0.8, 1.0],\n",
    "        'max_depth': [4, 6, 8],\n",
    "    }\n",
    "    \n",
    "    clf = xgb.XGBClassifier(\n",
    "        n_jobs=-1,\n",
    "        random_state=0,\n",
    "        use_label_encoder=False,\n",
    "    )\n",
    "    \n",
    "    return RandomizedSearchCV(  # FIXME: Try new one?\n",
    "        clf,\n",
    "        param_distributions=params,\n",
    "        scoring='roc_auc',  # FIXME: Try f1, f1_weighted?\n",
    "        random_state=0,\n",
    "        n_jobs=-1,\n",
    "        verbose=2,\n",
    "    )"
   ]
  },
  {
   "cell_type": "code",
   "execution_count": 41,
   "metadata": {
    "ExecuteTime": {
     "end_time": "2021-03-27T02:36:20.631886Z",
     "start_time": "2021-03-27T02:26:55.890008Z"
    }
   },
   "outputs": [
    {
     "name": "stdout",
     "output_type": "stream",
     "text": [
      "Fitting 5 folds for each of 10 candidates, totalling 50 fits\n",
      "[22:36:07] WARNING: /Users/travis/build/dmlc/xgboost/src/learner.cc:1061: Starting in XGBoost 1.3.0, the default evaluation metric used with the objective 'binary:logistic' was changed from 'error' to 'logloss'. Explicitly set eval_metric if you'd like to restore the old behavior.\n",
      "0.89118 v 0.88962 reference value\n",
      "CPU times: user 2min 21s, sys: 2.15 s, total: 2min 24s\n",
      "Wall time: 9min 24s\n"
     ]
    }
   ],
   "source": [
    "%%time\n",
    "# clf = getRFC()\n",
    "clf = getRsXgb()\n",
    "clf.fit(X_train_enc, y_train)\n",
    "y_pred = clf.predict_proba(X_test_enc)[:, 1] # This grabs the positive class prediction\n",
    "score = roc_auc_score(y_test, y_pred)\n",
    "print(f'{score:0.5f} v 0.88962 reference value')  # New value ?!"
   ]
  },
  {
   "cell_type": "markdown",
   "metadata": {},
   "source": [
    "## Let's take a look at how the model predicted the various classes\n",
    "\n",
    "The graph below shows that the model does well with most of the negative observations, but struggles with many of the positive observations."
   ]
  },
  {
   "cell_type": "code",
   "execution_count": 42,
   "metadata": {
    "ExecuteTime": {
     "end_time": "2021-03-27T02:36:21.882039Z",
     "start_time": "2021-03-27T02:36:20.642484Z"
    }
   },
   "outputs": [
    {
     "data": {
      "image/png": "[encoded data removed]",
      "text/plain": [
       "<Figure size 576x288 with 1 Axes>"
      ]
     },
     "metadata": {
      "needs_background": "light"
     },
     "output_type": "display_data"
    }
   ],
   "source": [
    "plt.figure(figsize=(8,4))\n",
    "plt.hist(y_pred[np.where(y_test == 0)], bins=100, alpha=0.75, label='neg class')\n",
    "plt.hist(y_pred[np.where(y_test == 1)], bins=100, alpha=0.75, label='pos class')\n",
    "plt.legend()\n",
    "plt.show()"
   ]
  },
  {
   "cell_type": "markdown",
   "metadata": {},
   "source": [
    "# Train it on all the data and create submission"
   ]
  },
  {
   "cell_type": "code",
   "execution_count": 43,
   "metadata": {
    "ExecuteTime": {
     "end_time": "2021-03-27T02:36:21.889432Z",
     "start_time": "2021-03-27T02:36:21.887049Z"
    }
   },
   "outputs": [],
   "source": [
    "# enc = getOHE()\n",
    "enc = getLE()"
   ]
  },
  {
   "cell_type": "code",
   "execution_count": 44,
   "metadata": {
    "ExecuteTime": {
     "end_time": "2021-03-27T02:36:25.915857Z",
     "start_time": "2021-03-27T02:36:21.891736Z"
    }
   },
   "outputs": [],
   "source": [
    "train_enc = train.copy()\n",
    "test_enc = test.copy()\n",
    "\n",
    "for c in train_enc[cat_vars].columns:\n",
    "    enc.fit(list(train_enc[c].values) + list(test_enc[c].values))\n",
    "    train_enc[c] = enc.transform(train_enc[c].values)\n",
    "    test_enc[c] = enc.transform(test_enc[c].values)"
   ]
  },
  {
   "cell_type": "code",
   "execution_count": 45,
   "metadata": {
    "ExecuteTime": {
     "end_time": "2021-03-27T02:48:54.405518Z",
     "start_time": "2021-03-27T02:36:25.917569Z"
    }
   },
   "outputs": [
    {
     "name": "stdout",
     "output_type": "stream",
     "text": [
      "Fitting 5 folds for each of 10 candidates, totalling 50 fits\n",
      "[22:48:37] WARNING: /Users/travis/build/dmlc/xgboost/src/learner.cc:1061: Starting in XGBoost 1.3.0, the default evaluation metric used with the objective 'binary:logistic' was changed from 'error' to 'logloss'. Explicitly set eval_metric if you'd like to restore the old behavior.\n",
      "CPU times: user 3min 11s, sys: 3 s, total: 3min 14s\n",
      "Wall time: 12min 28s\n"
     ]
    }
   ],
   "source": [
    "%%time\n",
    "# clf = getRFC()\n",
    "clf = getRsXgb()\n",
    "clf.fit(train_enc, target)\n",
    "submission['target'] = clf.predict_proba(test_enc)[:, 1]"
   ]
  },
  {
   "cell_type": "code",
   "execution_count": 48,
   "metadata": {
    "ExecuteTime": {
     "end_time": "2021-03-27T03:07:12.319285Z",
     "start_time": "2021-03-27T03:07:11.917286Z"
    }
   },
   "outputs": [
    {
     "data": {
      "text/plain": [
       "'submission_e85c53b1-7ec4-4f32-aabd-965587ca7b0a.csv'"
      ]
     },
     "execution_count": 48,
     "metadata": {},
     "output_type": "execute_result"
    }
   ],
   "source": [
    "filename = f'submission_{uuid.uuid4()}.csv'\n",
    "submission.to_csv(input_path / filename)\n",
    "filename"
   ]
  },
  {
   "cell_type": "code",
   "execution_count": null,
   "metadata": {},
   "outputs": [],
   "source": []
  }
 ],
 "metadata": {
  "kernelspec": {
   "display_name": "Python 3",
   "language": "python",
   "name": "python3"
  },
  "language_info": {
   "codemirror_mode": {
    "name": "ipython",
    "version": 3
   },
   "file_extension": ".py",
   "mimetype": "text/x-python",
   "name": "python",
   "nbconvert_exporter": "python",
   "pygments_lexer": "ipython3",
   "version": "3.8.2"
  },
  "toc": {
   "base_numbering": 1,
   "nav_menu": {},
   "number_sections": true,
   "sideBar": true,
   "skip_h1_title": false,
   "title_cell": "Table of Contents",
   "title_sidebar": "Contents",
   "toc_cell": false,
   "toc_position": {},
   "toc_section_display": true,
   "toc_window_display": false
  }
 },
 "nbformat": 4,
 "nbformat_minor": 4
}
